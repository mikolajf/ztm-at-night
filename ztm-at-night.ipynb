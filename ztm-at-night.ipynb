{
 "cells": [
  {
   "cell_type": "code",
   "execution_count": 2,
   "metadata": {},
   "outputs": [],
   "source": [
    "import pandas as pd\n",
    "import numpy as np"
   ]
  },
  {
   "cell_type": "code",
   "execution_count": 3,
   "metadata": {},
   "outputs": [],
   "source": [
    "# import py7zlib\n",
    "import os\n",
    "# import md5\n",
    "import re\n",
    "import datetime\n",
    "import shutil"
   ]
  },
  {
   "cell_type": "code",
   "execution_count": 6,
   "metadata": {},
   "outputs": [],
   "source": [
    "def processTY(f,lines):\n",
    "    for line in f:\n",
    "        if line[:1] == \"#\":\n",
    "            break \n",
    "    return False \n",
    "    \n",
    "def processKA(f,lines): \n",
    "    for line in f:\n",
    "        if line[:1] == \"#\":\n",
    "            break \n",
    "    return False \n",
    "\n",
    "def processKD(f,lines):\n",
    "    for line in f:\n",
    "        if line[:1] == \"#\":\n",
    "            break \n",
    "    return False \n",
    "\n",
    "def processZA(f,lines):   \n",
    "    for line in f:\n",
    "        if line[:1] == \"#\":\n",
    "            break \n",
    "    return False \n",
    "    \n",
    "def processZP(f,lines): \n",
    "    for line in f:\n",
    "        if line[:1] == \"#\":\n",
    "            break \n",
    "    return False \n",
    "\n",
    "def processSM(f,lines):   \n",
    "    for line in f:\n",
    "        if line[:1] == \"#\":\n",
    "            break \n",
    "    return False \n",
    "  \n",
    "def processLL(f,lines):\n",
    "    for line in f:\n",
    "        if line[:1] == \"#\":\n",
    "            break \n",
    "    return False \n",
    "def processWK(f,numer_lini):\n",
    "    for line in f:\n",
    "        if line[:1] == \"#\":\n",
    "            break \n",
    "    return False \n",
    "           \n",
    "    \n",
    "def readlines(f,name):\n",
    "    \"\"\" Iterate lines from an archive member. \"\"\"\n",
    "    linesep = os.linesep[-1]\n",
    "    line = ''\n",
    "    for ch in f.bytestream(name):\n",
    "        line += ch\n",
    "        if ch == linesep:\n",
    "            yield line.decode(\"cp1250\").encode('utf-8')\n",
    "            line = ''\n",
    "    if line: yield line.decode(\"cp1250\").encode('utf-8')\n",
    "\n",
    "\n",
    "def parse_file(directory,filename):\n",
    "    with open(filename,\"r\") as f:\n",
    "        fo = f.readlines()\n",
    "    \n",
    "    retcode = False\n",
    "    for line in fo:\n",
    "        print(line[1:3])\n",
    "        if line[1:3] == \"##\":\n",
    "            break\n",
    "        \n",
    "        print('process' + line[1:3] +'(fo,' + line[4:]+')')\n",
    "        retcode = eval('process' + line[1:3] +'(fo,' + line[4:]+')')\n",
    "        if retcode:\n",
    "            break"
   ]
  },
  {
   "cell_type": "code",
   "execution_count": 7,
   "metadata": {},
   "outputs": [
    {
     "name": "stdout",
     "output_type": "stream",
     "text": [
      "TY\n",
      "processTY(fo, 33\n",
      ")\n",
      "  \n",
      "process  (fo,1   PONIEDZIAŁEK\n",
      ")\n"
     ]
    },
    {
     "ename": "SyntaxError",
     "evalue": "invalid syntax (<string>, line 1)",
     "output_type": "error",
     "traceback": [
      "Traceback \u001b[1;36m(most recent call last)\u001b[0m:\n",
      "  File \u001b[0;32m\"C:\\Anaconda\\envs\\ztm-at-night\\lib\\site-packages\\IPython\\core\\interactiveshell.py\"\u001b[0m, line \u001b[0;32m3267\u001b[0m, in \u001b[0;35mrun_code\u001b[0m\n    exec(code_obj, self.user_global_ns, self.user_ns)\n",
      "  File \u001b[0;32m\"<ipython-input-7-43ca453e2997>\"\u001b[0m, line \u001b[0;32m1\u001b[0m, in \u001b[0;35m<module>\u001b[0m\n    parse_file(\"\",\"RA190414.TXT\")\n",
      "\u001b[1;36m  File \u001b[1;32m\"<ipython-input-6-08296fe62ac1>\"\u001b[1;36m, line \u001b[1;32m63\u001b[1;36m, in \u001b[1;35mparse_file\u001b[1;36m\u001b[0m\n\u001b[1;33m    retcode = eval('process' + line[1:3] +'(fo,' + line[4:]+')')\u001b[0m\n",
      "\u001b[1;36m  File \u001b[1;32m\"<string>\"\u001b[1;36m, line \u001b[1;32m1\u001b[0m\n\u001b[1;33m    process  (fo,1   PONIEDZIAŁEK\u001b[0m\n\u001b[1;37m                                ^\u001b[0m\n\u001b[1;31mSyntaxError\u001b[0m\u001b[1;31m:\u001b[0m invalid syntax\n"
     ]
    }
   ],
   "source": [
    "parse_file(\"\",\"RA190414.TXT\")"
   ]
  },
  {
   "cell_type": "code",
   "execution_count": 41,
   "metadata": {},
   "outputs": [],
   "source": [
    "def download_now():\n",
    "    import datetime\n",
    "    import urllib.request as urllib\n",
    "\n",
    "    now = datetime.datetime.now()\n",
    "    now_str = now.strftime(\"%y%m%d\")\n",
    "\n",
    "    url = \"ftp://rozklady.ztm.waw.pl/RA\" + now_str + \".7z\"\n",
    "\n",
    "    try:\n",
    "        urllib.urlretrieve(url, \"archive.7z\")\n",
    "    except Exception as e:\n",
    "        print(str(e))\n",
    "        \n",
    "def unzip_download(file_name = \"archive.7z\"):\n",
    "    import os, subprocess\n",
    "\n",
    "    cwd = os.getcwd()\n",
    "    file_path = os.path.join(cwd,file_name)\n",
    "    \n",
    "    print(file_path)\n",
    "\n",
    "    subprocess.call([\"C:/Program Files/7-Zip/7z.exe\", 'e', \"-o\" + cwd, file_path])\n",
    "    \n",
    "    os.remove(file_path)\n",
    "    print(\"File Removed!\")"
   ]
  },
  {
   "cell_type": "code",
   "execution_count": 32,
   "metadata": {},
   "outputs": [],
   "source": [
    "download_now()"
   ]
  },
  {
   "cell_type": "code",
   "execution_count": 42,
   "metadata": {},
   "outputs": [
    {
     "name": "stdout",
     "output_type": "stream",
     "text": [
      "D:\\python_projects\\ztm-at-night\\archive.7z\n",
      "File Removed!\n"
     ]
    }
   ],
   "source": [
    "unzip_download()"
   ]
  },
  {
   "cell_type": "code",
   "execution_count": null,
   "metadata": {},
   "outputs": [],
   "source": []
  }
 ],
 "metadata": {
  "kernelspec": {
   "display_name": "Python [conda env:ztm-at-night]",
   "language": "python",
   "name": "conda-env-ztm-at-night-py"
  },
  "language_info": {
   "codemirror_mode": {
    "name": "ipython",
    "version": 3
   },
   "file_extension": ".py",
   "mimetype": "text/x-python",
   "name": "python",
   "nbconvert_exporter": "python",
   "pygments_lexer": "ipython3",
   "version": "3.7.2"
  }
 },
 "nbformat": 4,
 "nbformat_minor": 2
}
